{
 "cells": [
  {
   "cell_type": "code",
   "execution_count": 1,
   "metadata": {},
   "outputs": [
    {
     "name": "stderr",
     "output_type": "stream",
     "text": [
      "/home/bheeshm/anaconda3/envs/nisargt2v/lib/python3.10/site-packages/tqdm/auto.py:21: TqdmWarning: IProgress not found. Please update jupyter and ipywidgets. See https://ipywidgets.readthedocs.io/en/stable/user_install.html\n",
      "  from .autonotebook import tqdm as notebook_tqdm\n"
     ]
    },
    {
     "name": "stdout",
     "output_type": "stream",
     "text": [
      "Initializing the conversion map\n"
     ]
    }
   ],
   "source": [
    "import argparse\n",
    "import datetime\n",
    "import logging\n",
    "import inspect\n",
    "import math\n",
    "import os\n",
    "import random\n",
    "import gc\n",
    "import copy\n",
    "\n",
    "from typing import Dict, Optional, Tuple\n",
    "from omegaconf import OmegaConf\n",
    "\n",
    "import cv2\n",
    "import torch\n",
    "import torch.nn.functional as F\n",
    "import torch.utils.checkpoint\n",
    "import torchvision.transforms as T\n",
    "import diffusers\n",
    "import transformers\n",
    "\n",
    "from torchvision import transforms\n",
    "from tqdm.auto import tqdm\n",
    "\n",
    "from accelerate import Accelerator\n",
    "from accelerate.logging import get_logger\n",
    "from accelerate.utils import set_seed\n",
    "\n",
    "from models.unet_3d_condition import UNet3DConditionModel\n",
    "from diffusers.models import AutoencoderKL\n",
    "from diffusers import DPMSolverMultistepScheduler, DDPMScheduler, TextToVideoSDPipeline\n",
    "from diffusers.optimization import get_scheduler\n",
    "from diffusers.utils import check_min_version, export_to_video\n",
    "from diffusers.utils.import_utils import is_xformers_available\n",
    "from diffusers.models.attention_processor import AttnProcessor2_0, Attention\n",
    "from diffusers.models.attention import BasicTransformerBlock\n",
    "\n",
    "from transformers import CLIPTextModel, CLIPTokenizer\n",
    "from transformers.models.clip.modeling_clip import CLIPEncoder\n",
    "from utils.dataset import VideoJsonDataset, SingleVideoDataset, \\\n",
    "    ImageDataset, VideoFolderDataset, CachedDataset\n",
    "from einops import rearrange, repeat\n",
    "from utils.lora_handler import LoraHandler, LORA_VERSIONS"
   ]
  },
  {
   "cell_type": "code",
   "execution_count": 2,
   "metadata": {},
   "outputs": [
    {
     "data": {
      "text/plain": [
       "True"
      ]
     },
     "execution_count": 2,
     "metadata": {},
     "output_type": "execute_result"
    }
   ],
   "source": [
    "import torch\n",
    "torch.cuda.is_available()"
   ]
  },
  {
   "cell_type": "code",
   "execution_count": 3,
   "metadata": {},
   "outputs": [],
   "source": [
    "already_printed_trainables = False\n",
    "\n",
    "logger = get_logger(__name__, log_level=\"INFO\")\n",
    "\n",
    "def create_logging(logging, logger, accelerator):\n",
    "    logging.basicConfig(\n",
    "        format=\"%(asctime)s - %(levelname)s - %(name)s - %(message)s\",\n",
    "        datefmt=\"%m/%d/%Y %H:%M:%S\",\n",
    "        level=logging.INFO,\n",
    "    )\n",
    "    logger.info(accelerator.state, main_process_only=False)"
   ]
  },
  {
   "cell_type": "code",
   "execution_count": 4,
   "metadata": {},
   "outputs": [
    {
     "name": "stderr",
     "output_type": "stream",
     "text": [
      "/home/bheeshm/anaconda3/envs/nisargt2v/lib/python3.10/site-packages/accelerate/accelerator.py:432: FutureWarning: `torch.cuda.amp.GradScaler(args...)` is deprecated. Please use `torch.amp.GradScaler('cuda', args...)` instead.\n",
      "  self.scaler = torch.cuda.amp.GradScaler(**kwargs)\n"
     ]
    }
   ],
   "source": [
    "accelerator = Accelerator(\n",
    "    gradient_accumulation_steps=1,\n",
    "    mixed_precision='fp16',\n",
    "    log_with='tensorboard',\n",
    "    project_dir='./outputs'\n",
    ")"
   ]
  },
  {
   "cell_type": "code",
   "execution_count": 5,
   "metadata": {},
   "outputs": [
    {
     "name": "stderr",
     "output_type": "stream",
     "text": [
      "11/18/2024 03:35:34 - INFO - __main__ - Distributed environment: NO\n",
      "Num processes: 1\n",
      "Process index: 0\n",
      "Local process index: 0\n",
      "Device: cuda\n",
      "\n",
      "Mixed precision type: fp16\n",
      "\n"
     ]
    }
   ],
   "source": [
    "create_logging(logging, logger, accelerator)"
   ]
  },
  {
   "cell_type": "code",
   "execution_count": 6,
   "metadata": {},
   "outputs": [],
   "source": [
    "def accelerate_set_verbose(accelerator):\n",
    "    if accelerator.is_local_main_process:\n",
    "        transformers.utils.logging.set_verbosity_warning()\n",
    "        diffusers.utils.logging.set_verbosity_info()\n",
    "    else:\n",
    "        transformers.utils.logging.set_verbosity_error()\n",
    "        diffusers.utils.logging.set_verbosity_error()\n",
    "# Initialize accelerate, transformers, and diffusers warnings\n",
    "accelerate_set_verbose(accelerator)"
   ]
  },
  {
   "cell_type": "code",
   "execution_count": 7,
   "metadata": {},
   "outputs": [],
   "source": [
    "set_seed(64)"
   ]
  },
  {
   "cell_type": "code",
   "execution_count": 8,
   "metadata": {},
   "outputs": [],
   "source": [
    "pretrained_model_path  = \"./models/model_scope_diffusers/\"\n",
    "output_dir = \"./outputs\""
   ]
  },
  {
   "cell_type": "code",
   "execution_count": 9,
   "metadata": {},
   "outputs": [],
   "source": [
    "def create_output_folders(output_dir):\n",
    "    now = datetime.datetime.now().strftime(\"%Y-%m-%dT%H-%M-%S\")\n",
    "    out_dir = os.path.join(output_dir, f\"train_{now}\")\n",
    "    \n",
    "    os.makedirs(out_dir, exist_ok=True)\n",
    "    os.makedirs(f\"{out_dir}/samples\", exist_ok=True)\n",
    "    # OmegaConf.save(config, os.path.join(out_dir, 'config.yaml'))\n",
    "\n",
    "    return out_dir\n",
    "\n",
    "\n",
    "if accelerator.is_main_process:\n",
    "    output_dir = create_output_folders(output_dir)"
   ]
  },
  {
   "cell_type": "code",
   "execution_count": 10,
   "metadata": {},
   "outputs": [
    {
     "name": "stderr",
     "output_type": "stream",
     "text": [
      "{'rescale_betas_zero_snr', 'variance_type', 'timestep_spacing'} was not found in config. Values will be initialized to default values.\n",
      "{'shift_factor', 'latents_std', 'force_upcast', 'latents_mean', 'use_post_quant_conv', 'use_quant_conv', 'mid_block_add_attention'} was not found in config. Values will be initialized to default values.\n",
      "{'mid_block_scale_factor', 'downsample_padding'} was not found in config. Values will be initialized to default values.\n"
     ]
    }
   ],
   "source": [
    "import os\n",
    "def load_primary_models(pretrained_model_path):\n",
    "    noise_scheduler = DDPMScheduler.from_pretrained(pretrained_model_path, subfolder=\"scheduler\")\n",
    "    tokenizer = CLIPTokenizer.from_pretrained(pretrained_model_path, subfolder=\"tokenizer\")\n",
    "    text_encoder = CLIPTextModel.from_pretrained(pretrained_model_path, local_files_only = True, use_safetensors=True, subfolder = 'text_encoder')\n",
    "    vae = AutoencoderKL.from_pretrained(pretrained_model_path, subfolder=\"vae\")\n",
    "    unet = UNet3DConditionModel.from_pretrained(pretrained_model_path, subfolder=\"unet\", local_files_only = True, use_safetensors= True)\n",
    "\n",
    "    return noise_scheduler, tokenizer, text_encoder, vae, unet\n",
    "# Load scheduler, tokenizer and models.\n",
    "noise_scheduler, tokenizer, text_encoder, vae, unet = load_primary_models(pretrained_model_path)\n"
   ]
  },
  {
   "cell_type": "code",
   "execution_count": 11,
   "metadata": {},
   "outputs": [
    {
     "name": "stdout",
     "output_type": "stream",
     "text": [
      "Memory usage for each model:\n",
      "Noise Scheduler (no parameters, only config): 0 MB\n",
      "Tokenizer (no parameters): 0 MB\n",
      "Text Encoder: 649.24 MB\n",
      "VAE: 159.56 MB\n",
      "UNet: 2691.71 MB\n"
     ]
    }
   ],
   "source": [
    "\n",
    "# Function to calculate the model's memory size in MB\n",
    "def get_model_size_in_mb(model):\n",
    "    if hasattr(model, 'parameters'):\n",
    "        total_params = sum(p.numel() for p in model.parameters() if p.requires_grad)  # Total number of parameters\n",
    "        total_size_bytes = total_params * 2  # float32 is 4 bytes\n",
    "        total_size_mb = total_size_bytes / (1024 * 1024)  # Convert to MB\n",
    "        return total_size_mb\n",
    "    return 0  # Return 0 if the model doesn't have parameters\n",
    "\n",
    "# Assuming these models are already loaded\n",
    "def print_model_memory_usage(pretrained_model_path):\n",
    "    # Load model\n",
    "    \n",
    "    print(f\"Memory usage for each model:\")\n",
    "    \n",
    "    # Print memory usage for models that have parameters\n",
    "    print(f\"Noise Scheduler (no parameters, only config): 0 MB\")  # Noise scheduler has no parameters\n",
    "    print(f\"Tokenizer (no parameters): 0 MB\")  # Tokenizer has no parameters\n",
    "    \n",
    "    print(f\"Text Encoder: {get_model_size_in_mb(text_encoder):.2f} MB\")\n",
    "    print(f\"VAE: {get_model_size_in_mb(vae):.2f} MB\")\n",
    "    print(f\"UNet: {get_model_size_in_mb(unet):.2f} MB\")\n",
    "\n",
    "# Example usage\n",
    "pretrained_model_path = \"/home/bheeshm/nisarg/models/model_scope_diffusers\"\n",
    "print_model_memory_usage(pretrained_model_path)\n"
   ]
  },
  {
   "cell_type": "code",
   "execution_count": 12,
   "metadata": {},
   "outputs": [],
   "source": [
    "def freeze_models(models_to_freeze):\n",
    "    for model in models_to_freeze:\n",
    "        if model is not None: model.requires_grad_(False) \n",
    "freeze_models([vae, text_encoder, unet])"
   ]
  },
  {
   "cell_type": "code",
   "execution_count": 13,
   "metadata": {},
   "outputs": [],
   "source": [
    "def is_attn(name):\n",
    "   return ('attn1' or 'attn2' == name.split('.')[-1])\n",
    "\n",
    "def set_processors(attentions):\n",
    "    for attn in attentions: attn.set_processor(AttnProcessor2_0()) \n",
    "    \n",
    "def set_torch_2_attn(unet):\n",
    "    optim_count = 0\n",
    "    \n",
    "    for name, module in unet.named_modules():\n",
    "        if is_attn(name):\n",
    "            if isinstance(module, torch.nn.ModuleList):\n",
    "                for m in module:\n",
    "                    if isinstance(m, BasicTransformerBlock):\n",
    "                        set_processors([m.attn1, m.attn2])\n",
    "                        optim_count += 1\n",
    "    if optim_count > 0: \n",
    "        print(f\"{optim_count} Attention layers using Scaled Dot Product Attention.\")"
   ]
  },
  {
   "cell_type": "code",
   "execution_count": 14,
   "metadata": {},
   "outputs": [
    {
     "name": "stdout",
     "output_type": "stream",
     "text": [
      "33 Attention layers using Scaled Dot Product Attention.\n"
     ]
    }
   ],
   "source": [
    "def handle_memory_attention(enable_xformers_memory_efficient_attention, enable_torch_2_attn, unet): \n",
    "    try:\n",
    "        is_torch_2 = hasattr(F, 'scaled_dot_product_attention')\n",
    "        enable_torch_2 = is_torch_2 and enable_torch_2_attn\n",
    "        \n",
    "        if enable_xformers_memory_efficient_attention and not enable_torch_2:\n",
    "            if is_xformers_available():\n",
    "                from xformers.ops import MemoryEfficientAttentionFlashAttentionOp\n",
    "                unet.enable_xformers_memory_efficient_attention(attention_op=MemoryEfficientAttentionFlashAttentionOp)\n",
    "            else:\n",
    "                raise ValueError(\"xformers is not available. Make sure it is installed correctly\")\n",
    "        \n",
    "        if enable_torch_2:\n",
    "            set_torch_2_attn(unet)\n",
    "            \n",
    "    except:\n",
    "        print(\"Could not enable memory efficient attention for xformers or Torch 2.0.\")\n",
    "\n",
    "\n",
    "handle_memory_attention(True, True, unet)"
   ]
  },
  {
   "cell_type": "code",
   "execution_count": 15,
   "metadata": {},
   "outputs": [],
   "source": [
    "# Initialize the optimizer\n",
    "optimizer_cls = torch.optim.AdamW"
   ]
  },
  {
   "cell_type": "code",
   "execution_count": 16,
   "metadata": {},
   "outputs": [],
   "source": [
    "extra_unet_params = None\n",
    "extra_text_encoder_params= None\n",
    "train_batch_size= 1\n",
    "max_train_steps= 10000\n",
    "learning_rate= 5e-6\n",
    "scale_lr =False\n",
    "lr_scheduler = \"constant\"\n",
    "lr_warmup_steps=0\n",
    "adam_beta1=0.9\n",
    "adam_beta2= 0.999\n",
    "adam_weight_decay= 0\n",
    "adam_epsilon = 1e-08\n",
    "max_grad_norm= 1.0\n",
    "gradient_accumulation_steps=1\n",
    "gradient_checkpointing= True\n",
    "text_encoder_gradient_checkpointing= False\n",
    "checkpointing_steps= 2500\n",
    "resume_from_checkpoint= None\n",
    "resume_step= None\n",
    "train_text_encoder: False\n",
    "use_offset_noise: False\n",
    "rescale_schedule: False\n",
    "offset_noise_strength= 0.1\n",
    "extend_dataset= False\n",
    "cache_latents= True\n",
    "cached_latent_dir= \"./outputs/cached_latents\"\n",
    "lora_version= \"cloneofsimo\"\n",
    "save_lora_for_webui= True\n",
    "only_lora_for_webui= False\n",
    "lora_bias= 'none'\n",
    "use_unet_lora= False\n",
    "use_text_lora= False\n",
    "unet_lora_modules= (\"UNet3DConditionModel\",)\n",
    "text_encoder_lora_modules= (\"CLIPEncoderLayer\",)\n",
    "save_pretrained_model= True\n",
    "lora_rank= 16\n",
    "lora_path= \"\"\n",
    "lora_unet_dropout= 0.1\n",
    "lora_text_dropout= 0.1\n",
    "dataset_types= (\"folder\",)\n",
    "shuffle=True\n",
    "validation_steps= 100\n",
    "trainable_modules= (\"all\",)\n",
    "trainable_text_modules= (\"all\",)\n",
    "train_text_encoder = False"
   ]
  },
  {
   "cell_type": "code",
   "execution_count": 17,
   "metadata": {},
   "outputs": [],
   "source": [
    "# Use LoRA if enabled.  \n",
    "lora_manager = LoraHandler(\n",
    "    version=lora_version, \n",
    "    use_unet_lora=use_unet_lora,\n",
    "    use_text_lora=use_text_lora,\n",
    "    save_for_webui=save_lora_for_webui,\n",
    "    only_for_webui=only_lora_for_webui,\n",
    "    unet_replace_modules=unet_lora_modules,\n",
    "    text_encoder_replace_modules=text_encoder_lora_modules,\n",
    "    lora_bias=lora_bias\n",
    ")\n"
   ]
  },
  {
   "cell_type": "code",
   "execution_count": 18,
   "metadata": {},
   "outputs": [],
   "source": [
    "unet_lora_params, unet_negation = lora_manager.add_lora_to_model(\n",
    "    use_unet_lora, unet, lora_manager.unet_replace_modules, lora_unet_dropout, lora_path, r=lora_rank) \n",
    "\n",
    "text_encoder_lora_params, text_encoder_negation = lora_manager.add_lora_to_model(\n",
    "    use_text_lora, text_encoder, lora_manager.text_encoder_replace_modules, lora_text_dropout, lora_path, r=lora_rank) \n"
   ]
  },
  {
   "cell_type": "code",
   "execution_count": 19,
   "metadata": {},
   "outputs": [],
   "source": [
    "\n",
    "extra_unet_params = extra_unet_params if extra_unet_params is not None else {}\n",
    "extra_text_encoder_params = extra_unet_params if extra_unet_params is not None else {}\n",
    "\n",
    "trainable_modules_available = trainable_modules is not None\n",
    "trainable_text_modules_available = (train_text_encoder and trainable_text_modules is not None)"
   ]
  },
  {
   "cell_type": "code",
   "execution_count": 20,
   "metadata": {},
   "outputs": [],
   "source": [
    "def param_optim(model, condition, extra_params=None, is_lora=False, negation=None):\n",
    "    extra_params = extra_params if len(extra_params.keys()) > 0 else None\n",
    "    return {\n",
    "        \"model\": model, \n",
    "        \"condition\": condition, \n",
    "        'extra_params': extra_params,\n",
    "        'is_lora': is_lora,\n",
    "        \"negation\": negation\n",
    "    }"
   ]
  },
  {
   "cell_type": "code",
   "execution_count": 21,
   "metadata": {},
   "outputs": [],
   "source": [
    "optim_params = [\n",
    "        param_optim(unet, trainable_modules_available, extra_params=extra_unet_params, negation=unet_negation),\n",
    "        param_optim(text_encoder, trainable_text_modules_available, \n",
    "                        extra_params=extra_text_encoder_params, \n",
    "                        negation=text_encoder_negation\n",
    "                   ),\n",
    "        param_optim(text_encoder_lora_params, use_text_lora, is_lora=True, \n",
    "                        extra_params={**{\"lr\": learning_rate}, **extra_text_encoder_params}\n",
    "                    ),\n",
    "        param_optim(unet_lora_params, use_unet_lora, is_lora=True, \n",
    "                        extra_params={**{\"lr\": learning_rate}, **extra_unet_params}\n",
    "                    )\n",
    "    ]"
   ]
  },
  {
   "cell_type": "code",
   "execution_count": 22,
   "metadata": {},
   "outputs": [],
   "source": [
    "def create_optim_params(name='param', params=None, lr=5e-6, extra_params=None):\n",
    "    params = {\n",
    "        \"name\": name, \n",
    "        \"params\": params, \n",
    "        \"lr\": lr\n",
    "    }\n",
    "    if extra_params is not None:\n",
    "        for k, v in extra_params.items():\n",
    "            params[k] = v\n",
    "    \n",
    "    return params\n",
    "\n",
    "def create_optimizer_params(model_list, lr):\n",
    "    import itertools\n",
    "    optimizer_params = []\n",
    "\n",
    "    for optim in model_list:\n",
    "        model, condition, extra_params, is_lora, negation = optim.values()\n",
    "        # Check if we are doing LoRA training.\n",
    "        if is_lora and condition and isinstance(model, list): \n",
    "            params = create_optim_params(\n",
    "                params=itertools.chain(*model), \n",
    "                extra_params=extra_params\n",
    "            )\n",
    "            optimizer_params.append(params)\n",
    "            continue\n",
    "            \n",
    "        if is_lora and  condition and not isinstance(model, list):\n",
    "            for n, p in model.named_parameters():\n",
    "                if 'lora' in n:\n",
    "                    params = create_optim_params(n, p, lr, extra_params)\n",
    "                    optimizer_params.append(params)\n",
    "            continue\n",
    "\n",
    "        # If this is true, we can train it.\n",
    "        if condition:\n",
    "            for n, p in model.named_parameters():\n",
    "                should_negate = 'lora' in n and not is_lora\n",
    "                if should_negate: continue\n",
    "\n",
    "                params = create_optim_params(n, p, lr, extra_params)\n",
    "                optimizer_params.append(params)\n",
    "    \n",
    "    return optimizer_params"
   ]
  },
  {
   "cell_type": "code",
   "execution_count": 23,
   "metadata": {},
   "outputs": [],
   "source": [
    "params = create_optimizer_params(optim_params, learning_rate)"
   ]
  },
  {
   "cell_type": "code",
   "execution_count": 24,
   "metadata": {},
   "outputs": [],
   "source": [
    "optimizer = optimizer_cls(\n",
    "    params,\n",
    "    lr=learning_rate,\n",
    "    betas=(adam_beta1, adam_beta2),\n",
    "    weight_decay=adam_weight_decay,\n",
    "    eps=adam_epsilon,\n",
    ")\n",
    "\n",
    "# Scheduler\n",
    "lr_scheduler = get_scheduler(\n",
    "    lr_scheduler,\n",
    "    optimizer=optimizer,\n",
    "    num_warmup_steps=lr_warmup_steps * gradient_accumulation_steps,\n",
    "    num_training_steps=max_train_steps * gradient_accumulation_steps,\n",
    ")"
   ]
  },
  {
   "cell_type": "code",
   "execution_count": 25,
   "metadata": {},
   "outputs": [],
   "source": [
    "extra_train_data = None\n",
    "# Training data parameters\n",
    "train_data= {\n",
    "  # The width and height in which you want your training data to be resized to.\n",
    "  'width': 320,  'height': 240,\n",
    "  # This will find the closest aspect ratio to your input width and height. \n",
    "  # For example, 512x512 width and height with a video of resolution 1280x720 will be resized to 512x256\n",
    "  'use_bucketing': True,\n",
    "  # The start frame index where your videos should start (Leave this at one for json and folder based training).\n",
    "  'sample_start_idx': 1,\n",
    "  # Used for 'folder'. The rate at which your frames are sampled. Does nothing for 'json' and 'single_video' dataset.\n",
    "  'fps': 24,\n",
    "  # For 'single_video' and 'json'. The number of frames to \"step\" (1,2,3,4) (frame_step=2) -> (1,3,5,7, ...).  \n",
    "  'frame_step': 2,\n",
    "  # The number of frames to sample. The higher this number, the higher the VRAM (acts similar to batch size).\n",
    "  'n_sample_frames': 1,\n",
    "  # # 'single_video'\n",
    "  # single_video_path: \"path/to/single/video.mp4\",\n",
    "  # # The prompt when using a a single video file\n",
    "  # single_video_prompt: \"\",\n",
    "  # Fallback prompt if caption cannot be read. Enabled for 'image' and 'folder'.\n",
    "  'fallback_prompt': 'human is walking',\n",
    "  # 'folder'\n",
    "  'path': \"./test\",\n",
    "  # # 'json'\n",
    "  # json_path: 'path/to/train/json/'\n",
    "  # # 'image'\n",
    "  # image_dir: 'path/to/image/directory'\n",
    "  # # The prompt for all image files. Leave blank to use caption files (.txt) \n",
    "  # single_img_prompt: \"\"}\n",
    "}\n",
    "\n",
    "def get_train_dataset(dataset_types, train_data, tokenizer):\n",
    "    train_datasets = []\n",
    "\n",
    "    # Loop through all available datasets, get the name, then add to list of data to process.\n",
    "    for DataSet in [VideoJsonDataset, SingleVideoDataset, ImageDataset, VideoFolderDataset]:\n",
    "        for dataset in dataset_types:\n",
    "            if dataset == DataSet.__getname__():\n",
    "                train_datasets.append(DataSet(**train_data, tokenizer=tokenizer))\n",
    "\n",
    "    if len(train_datasets) > 0:\n",
    "        return train_datasets\n",
    "    else:\n",
    "        raise ValueError(\"Dataset type not found: 'json', 'single_video', 'folder', 'image'\")\n",
    "\n",
    "def extend_datasets(datasets, dataset_items, extend=False):\n",
    "    biggest_data_len = max(x.__len__() for x in datasets)\n",
    "    extended = []\n",
    "    for dataset in datasets:\n",
    "        if dataset.__len__() == 0:\n",
    "            del dataset\n",
    "            continue\n",
    "        if dataset.__len__() < biggest_data_len:\n",
    "            for item in dataset_items:\n",
    "                if extend and item not in extended and hasattr(dataset, item):\n",
    "                    print(f\"Extending {item}\")\n",
    "\n",
    "                    value = getattr(dataset, item)\n",
    "                    value *= biggest_data_len\n",
    "                    value = value[:biggest_data_len]\n",
    "\n",
    "                    setattr(dataset, item, value)\n",
    "\n",
    "                    print(f\"New {item} dataset length: {dataset.__len__()}\")\n",
    "                    extended.append(item)\n",
    "# Get the training dataset based on types (json, single_video, image)\n",
    "train_datasets = get_train_dataset(dataset_types, train_data, tokenizer)\n",
    "\n",
    "# If you have extra train data, you can add a list of however many you would like.\n",
    "# Eg: extra_train_data: [{: {dataset_types, train_data: {etc...}}}] \n",
    "try:\n",
    "    if extra_train_data is not None and len(extra_train_data) > 0:\n",
    "        for dataset in extra_train_data:\n",
    "            d_t, t_d = dataset['dataset_types'], dataset['train_data']\n",
    "            train_datasets += get_train_dataset(d_t, t_d, tokenizer)\n",
    "\n",
    "except Exception as e:\n",
    "    print(f\"Could not process extra train datasets due to an error : {e}\")\n",
    "\n",
    "# Extend datasets that are less than the greatest one. This allows for more balanced training.\n",
    "attrs = ['train_data', 'frames', 'image_dir', 'video_files']\n",
    "extend_datasets(train_datasets, attrs, extend=extend_dataset)"
   ]
  },
  {
   "cell_type": "code",
   "execution_count": 26,
   "metadata": {},
   "outputs": [],
   "source": [
    "# Process one dataset\n",
    "if len(train_datasets) == 1:\n",
    "    train_dataset = train_datasets[0]\n",
    "    \n",
    "# Process many datasets\n",
    "else:\n",
    "    train_dataset = torch.utils.data.ConcatDataset(train_datasets)"
   ]
  },
  {
   "cell_type": "code",
   "execution_count": 27,
   "metadata": {},
   "outputs": [
    {
     "data": {
      "text/plain": [
       "<utils.dataset.VideoFolderDataset at 0x7416e6b98b80>"
      ]
     },
     "execution_count": 27,
     "metadata": {},
     "output_type": "execute_result"
    }
   ],
   "source": [
    "train_dataset"
   ]
  },
  {
   "cell_type": "code",
   "execution_count": 28,
   "metadata": {},
   "outputs": [
    {
     "data": {
      "text/plain": [
       "11"
      ]
     },
     "execution_count": 28,
     "metadata": {},
     "output_type": "execute_result"
    }
   ],
   "source": [
    "len(train_dataset)"
   ]
  },
  {
   "cell_type": "code",
   "execution_count": 29,
   "metadata": {},
   "outputs": [],
   "source": [
    "# DataLoaders creation:\n",
    "train_dataloader = torch.utils.data.DataLoader(\n",
    "    train_dataset, \n",
    "    batch_size=train_batch_size,\n",
    "    shuffle=shuffle\n",
    "\n",
    ")"
   ]
  },
  {
   "cell_type": "code",
   "execution_count": 30,
   "metadata": {},
   "outputs": [
    {
     "data": {
      "text/plain": [
       "11"
      ]
     },
     "execution_count": 30,
     "metadata": {},
     "output_type": "execute_result"
    }
   ],
   "source": [
    "len(train_dataloader)"
   ]
  },
  {
   "cell_type": "code",
   "execution_count": 31,
   "metadata": {},
   "outputs": [],
   "source": [
    "def tensor_to_vae_latent(t, vae):\n",
    "    video_length = t.shape[1]\n",
    "\n",
    "    t = rearrange(t, \"b f c h w -> (b f) c h w\")\n",
    "    latents = vae.encode(t).latent_dist.sample()\n",
    "    latents = rearrange(latents, \"(b f) c h w -> b c f h w\", f=video_length)\n",
    "    latents = latents * 0.18215\n",
    "\n",
    "    return latents"
   ]
  },
  {
   "cell_type": "code",
   "execution_count": 32,
   "metadata": {},
   "outputs": [
    {
     "name": "stdout",
     "output_type": "stream",
     "text": [
      "Cached Latent Directory:  /home/bheeshm/nisarg/outputs/cached_latents\n"
     ]
    }
   ],
   "source": [
    "def handle_cache_latents(\n",
    "\n",
    "        should_cache, \n",
    "        output_dir, \n",
    "        train_dataloader, \n",
    "        train_batch_size, \n",
    "        vae, \n",
    "        cached_latent_dir=None,\n",
    "        shuffle=False\n",
    "    ):\n",
    "\n",
    "    # Cache latents by storing them in VRAM. \n",
    "    # Speeds up training and saves memory by not encoding during the train loop.\n",
    "    if not should_cache: return None\n",
    "    vae.to('cuda', dtype=torch.float16)\n",
    "    vae.enable_slicing()\n",
    "    \n",
    "    cached_latent_dir = (\n",
    "        os.path.abspath(cached_latent_dir) if cached_latent_dir is not None else None \n",
    "        )\n",
    "    print('Cached Latent Directory: ', cached_latent_dir if not None else \"\")\n",
    "    if cached_latent_dir is None:\n",
    "        cache_save_dir = f\"{output_dir}/cached_latents\"\n",
    "        os.makedirs(cache_save_dir, exist_ok=True)\n",
    "\n",
    "        for i, batch in enumerate(tqdm(train_dataloader, desc=\"Caching Latents.\")):\n",
    "\n",
    "            save_name = f\"cached_{i}\"\n",
    "            full_out_path =  f\"{cache_save_dir}/{save_name}.pt\"\n",
    "\n",
    "            pixel_values = batch['pixel_values'].to('cuda', dtype=torch.float16)\n",
    "            batch['pixel_values'] = tensor_to_vae_latent(pixel_values, vae)\n",
    "            for k, v in batch.items(): batch[k] = v[0]\n",
    "        \n",
    "            torch.save(batch, full_out_path)\n",
    "            del pixel_values\n",
    "            del batch\n",
    "\n",
    "            # We do this to avoid fragmentation from casting latents between devices.\n",
    "            torch.cuda.empty_cache()\n",
    "    else:\n",
    "        cache_save_dir = cached_latent_dir\n",
    "        \n",
    "\n",
    "    return torch.utils.data.DataLoader(\n",
    "        CachedDataset(cache_dir=cache_save_dir), \n",
    "        batch_size=train_batch_size, \n",
    "        shuffle=shuffle,\n",
    "        num_workers=0\n",
    "    ) \n",
    "\n",
    "    # Latents caching\n",
    "cached_data_loader = handle_cache_latents(\n",
    "    cache_latents, \n",
    "    output_dir,\n",
    "    train_dataloader, \n",
    "    train_batch_size, \n",
    "    vae,\n",
    "    cached_latent_dir\n",
    ") "
   ]
  },
  {
   "cell_type": "code",
   "execution_count": 33,
   "metadata": {},
   "outputs": [
    {
     "data": {
      "text/plain": [
       "<torch.utils.data.dataloader.DataLoader at 0x7416dd3f3520>"
      ]
     },
     "execution_count": 33,
     "metadata": {},
     "output_type": "execute_result"
    }
   ],
   "source": [
    "cached_data_loader"
   ]
  },
  {
   "cell_type": "code",
   "execution_count": 34,
   "metadata": {},
   "outputs": [
    {
     "data": {
      "text/plain": [
       "6420"
      ]
     },
     "execution_count": 34,
     "metadata": {},
     "output_type": "execute_result"
    }
   ],
   "source": [
    "len(cached_data_loader)"
   ]
  },
  {
   "cell_type": "code",
   "execution_count": 35,
   "metadata": {},
   "outputs": [],
   "source": [
    "if cached_data_loader is not None: \n",
    "    train_dataloader = cached_data_loader"
   ]
  },
  {
   "cell_type": "code",
   "execution_count": 36,
   "metadata": {},
   "outputs": [
    {
     "name": "stderr",
     "output_type": "stream",
     "text": [
      "/home/bheeshm/anaconda3/envs/nisargt2v/lib/python3.10/site-packages/accelerate/accelerator.py:1256: FutureWarning: `torch.cuda.amp.autocast(args...)` is deprecated. Please use `torch.amp.autocast('cuda', args...)` instead.\n",
      "  model.forward = torch.cuda.amp.autocast(dtype=torch.float16)(model.forward)\n"
     ]
    }
   ],
   "source": [
    "# Prepare everything with our `accelerator`.\n",
    "unet, optimizer,train_dataloader, lr_scheduler, text_encoder = accelerator.prepare(\n",
    "    unet, \n",
    "    optimizer, \n",
    "    train_dataloader, \n",
    "    lr_scheduler, \n",
    "    text_encoder\n",
    ")\n"
   ]
  },
  {
   "cell_type": "code",
   "execution_count": 37,
   "metadata": {},
   "outputs": [],
   "source": [
    "def unet_and_text_g_c(unet, text_encoder, unet_enable, text_enable):\n",
    "    unet._set_gradient_checkpointing(value=unet_enable)\n",
    "    text_encoder._set_gradient_checkpointing(CLIPEncoder)\n",
    "# Use Gradient Checkpointing if enabled.\n",
    "unet_and_text_g_c(\n",
    "    unet, \n",
    "    text_encoder, \n",
    "    gradient_checkpointing, \n",
    "    text_encoder_gradient_checkpointing\n",
    ")"
   ]
  },
  {
   "cell_type": "code",
   "execution_count": 38,
   "metadata": {},
   "outputs": [],
   "source": [
    "vae.enable_slicing()"
   ]
  },
  {
   "cell_type": "code",
   "execution_count": 39,
   "metadata": {},
   "outputs": [],
   "source": [
    "def is_mixed_precision(accelerator):\n",
    "    weight_dtype = torch.float32\n",
    "\n",
    "    if accelerator.mixed_precision == \"fp16\":\n",
    "        weight_dtype = torch.float16\n",
    "\n",
    "    elif accelerator.mixed_precision == \"bf16\":\n",
    "        weight_dtype = torch.bfloat16\n",
    "\n",
    "    return weight_dtype\n",
    "\n",
    "# For mixed precision training we cast the text_encoder and vae weights to half-precision\n",
    "# as these models are only used for inference, keeping weights in full precision is not required.\n",
    "weight_dtype = is_mixed_precision(accelerator)\n",
    "\n",
    "# Move text encoders, and VAE to GPU\n",
    "models_to_cast = [text_encoder, vae]\n",
    "\n",
    "def cast_to_gpu_and_type(model_list, accelerator, weight_dtype):\n",
    "    for model in model_list:\n",
    "        if model is not None: model.to(accelerator.device, dtype=weight_dtype)\n",
    "\n",
    "cast_to_gpu_and_type(models_to_cast, accelerator, weight_dtype)"
   ]
  },
  {
   "cell_type": "code",
   "execution_count": 40,
   "metadata": {},
   "outputs": [],
   "source": [
    "def enforce_zero_terminal_snr(betas):\n",
    "    \"\"\"\n",
    "    Corrects noise in diffusion schedulers.\n",
    "    From: Common Diffusion Noise Schedules and Sample Steps are Flawed\n",
    "    https://arxiv.org/pdf/2305.08891.pdf\n",
    "    \"\"\"\n",
    "    # Convert betas to alphas_bar_sqrt\n",
    "    alphas = 1 - betas\n",
    "    alphas_bar = alphas.cumprod(0)\n",
    "    alphas_bar_sqrt = alphas_bar.sqrt()\n",
    "\n",
    "    # Store old values.\n",
    "    alphas_bar_sqrt_0 = alphas_bar_sqrt[0].clone()\n",
    "    alphas_bar_sqrt_T = alphas_bar_sqrt[-1].clone()\n",
    "\n",
    "    # Shift so the last timestep is zero.\n",
    "    alphas_bar_sqrt -= alphas_bar_sqrt_T\n",
    "\n",
    "    # Scale so the first timestep is back to the old value.\n",
    "    alphas_bar_sqrt *= alphas_bar_sqrt_0 / (\n",
    "        alphas_bar_sqrt_0 - alphas_bar_sqrt_T\n",
    "    )\n",
    "\n",
    "    # Convert alphas_bar_sqrt to betas\n",
    "    alphas_bar = alphas_bar_sqrt ** 2\n",
    "    alphas = alphas_bar[1:] / alphas_bar[:-1]\n",
    "    alphas = torch.cat([alphas_bar[0:1], alphas])\n",
    "    betas = 1 - alphas\n",
    "\n",
    "    return betas"
   ]
  },
  {
   "cell_type": "code",
   "execution_count": 41,
   "metadata": {},
   "outputs": [],
   "source": [
    "use_offset_noise = False\n",
    "rescale_schedule = False\n",
    "# Fix noise schedules to predcit light and dark areas if available.\n",
    "if not use_offset_noise and rescale_schedule:\n",
    "    noise_scheduler.betas = enforce_zero_terminal_snr(noise_scheduler.betas)\n",
    "    \n",
    "# We need to recalculate our total training steps as the size of the training dataloader may have changed.\n",
    "num_update_steps_per_epoch = math.ceil(len(train_dataloader) / gradient_accumulation_steps)\n",
    "\n",
    "# Afterwards we recalculate our number of training epochs\n",
    "num_train_epochs = math.ceil(max_train_steps / num_update_steps_per_epoch)\n",
    "\n",
    "# We need to initialize the trackers we use, and also store our configuration.\n",
    "# The trackers initializes automatically on the main process.\n",
    "if accelerator.is_main_process:\n",
    "    accelerator.init_trackers(\"text2video-fine-tune\")"
   ]
  },
  {
   "cell_type": "code",
   "execution_count": 42,
   "metadata": {},
   "outputs": [
    {
     "name": "stderr",
     "output_type": "stream",
     "text": [
      "11/18/2024 03:36:47 - INFO - __main__ - ***** Running training *****\n",
      "11/18/2024 03:36:47 - INFO - __main__ -   Num examples = 11\n",
      "11/18/2024 03:36:47 - INFO - __main__ -   Num Epochs = 2\n",
      "11/18/2024 03:36:47 - INFO - __main__ -   Instantaneous batch size per device = 1\n",
      "11/18/2024 03:36:47 - INFO - __main__ -   Total train batch size (w. parallel, distributed & accumulation) = 1\n",
      "11/18/2024 03:36:47 - INFO - __main__ -   Gradient Accumulation steps = 1\n",
      "11/18/2024 03:36:47 - INFO - __main__ -   Total optimization steps = 10000\n"
     ]
    }
   ],
   "source": [
    "# Train!\n",
    "total_batch_size = train_batch_size * accelerator.num_processes * gradient_accumulation_steps\n",
    "\n",
    "logger.info(\"***** Running training *****\")\n",
    "logger.info(f\"  Num examples = {len(train_dataset)}\")\n",
    "logger.info(f\"  Num Epochs = {num_train_epochs}\")\n",
    "logger.info(f\"  Instantaneous batch size per device = {train_batch_size}\")\n",
    "logger.info(f\"  Total train batch size (w. parallel, distributed & accumulation) = {total_batch_size}\")\n",
    "logger.info(f\"  Gradient Accumulation steps = {gradient_accumulation_steps}\")\n",
    "logger.info(f\"  Total optimization steps = {max_train_steps}\")\n",
    "global_step = 0\n",
    "first_epoch = 0"
   ]
  },
  {
   "cell_type": "code",
   "execution_count": 43,
   "metadata": {},
   "outputs": [
    {
     "name": "stderr",
     "output_type": "stream",
     "text": [
      "Steps:   0%|          | 0/10000 [00:00<?, ?it/s]"
     ]
    }
   ],
   "source": [
    "\n",
    "# Only show the progress bar once on each machine.\n",
    "progress_bar = tqdm(range(global_step, max_train_steps), disable=not accelerator.is_local_main_process)\n",
    "progress_bar.set_description(\"Steps\")"
   ]
  },
  {
   "cell_type": "code",
   "execution_count": 44,
   "metadata": {},
   "outputs": [],
   "source": [
    "def handle_trainable_modules(model, trainable_modules=None, is_enabled=True, negation=None):\n",
    "    global already_printed_trainables\n",
    "    acc = []\n",
    "    unfrozen_params = 0\n",
    "    \n",
    "    if trainable_modules is not None:\n",
    "        unlock_all = any([name == 'all' for name in trainable_modules])\n",
    "        if unlock_all:\n",
    "            model.requires_grad_(True)\n",
    "            unfrozen_params = len(list(model.parameters()))\n",
    "        else:\n",
    "            model.requires_grad_(False)\n",
    "            for name, param in model.named_parameters():\n",
    "                for tm in trainable_modules:\n",
    "                    if all([tm in name, name not in acc, 'lora' not in name]):\n",
    "                        param.requires_grad_(is_enabled)\n",
    "                        acc.append(name)\n",
    "                        unfrozen_params += 1\n",
    "                        \n",
    "    if unfrozen_params > 0 and not already_printed_trainables:\n",
    "        already_printed_trainables = True \n",
    "        print(f\"{unfrozen_params} params have been processed.\")\n"
   ]
  },
  {
   "cell_type": "code",
   "execution_count": 45,
   "metadata": {},
   "outputs": [],
   "source": [
    "def sample_noise(latents, noise_strength, use_offset_noise=False):\n",
    "    b ,c, f, *_ = latents.shape\n",
    "    noise_latents = torch.randn_like(latents, device=latents.device)\n",
    "    offset_noise = None\n",
    "\n",
    "    if use_offset_noise:\n",
    "        offset_noise = torch.randn(b, c, f, 1, 1, device=latents.device)\n",
    "        noise_latents = noise_latents + noise_strength * offset_noise\n",
    "\n",
    "    return noise_latents"
   ]
  },
  {
   "cell_type": "code",
   "execution_count": 46,
   "metadata": {},
   "outputs": [],
   "source": [
    "def finetune_unet(batch, train_encoder=False):\n",
    "        use_offset_noise = False\n",
    "        rescale_schedule = False\n",
    "        \n",
    "        # Check if we are training the text encoder\n",
    "        text_trainable = (train_text_encoder or lora_manager.use_text_lora)\n",
    "        \n",
    "        # Unfreeze UNET Layers\n",
    "        if global_step == 0: \n",
    "            already_printed_trainables = False\n",
    "            unet.train()\n",
    "            handle_trainable_modules(\n",
    "                unet, \n",
    "                trainable_modules, \n",
    "                is_enabled=True,\n",
    "                negation=unet_negation\n",
    "            )\n",
    "\n",
    "        # Convert videos to latent space\n",
    "        pixel_values = batch[\"pixel_values\"]\n",
    "\n",
    "        if not cache_latents:\n",
    "            latents = tensor_to_vae_latent(pixel_values, vae)\n",
    "        else:\n",
    "            latents = pixel_values\n",
    "\n",
    "        # Get video length\n",
    "        video_length = latents.shape[2]\n",
    "        print(\"Video Length: \", video_length)\n",
    "\n",
    "        # Sample noise that we'll add to the latents\n",
    "        use_offset_noise = use_offset_noise and not rescale_schedule\n",
    "        noise = sample_noise(latents, offset_noise_strength, use_offset_noise)\n",
    "        bsz = latents.shape[0]\n",
    "\n",
    "        # Sample a random timestep for each video\n",
    "        timesteps = torch.randint(0, noise_scheduler.num_train_timesteps, (bsz,), device=latents.device)\n",
    "        timesteps = timesteps.long()\n",
    "\n",
    "        # Add noise to the latents according to the noise magnitude at each timestep\n",
    "        # (this is the forward diffusion process)\n",
    "        noisy_latents = noise_scheduler.add_noise(latents, noise, timesteps)\n",
    "    \n",
    "        # Enable text encoder training\n",
    "        if text_trainable:\n",
    "            text_encoder.train()\n",
    "\n",
    "            if lora_manager.use_text_lora: \n",
    "                text_encoder.text_model.embeddings.requires_grad_(True)\n",
    "\n",
    "            if global_step == 0 and train_text_encoder:\n",
    "                handle_trainable_modules(\n",
    "                    text_encoder, \n",
    "                    trainable_modules=trainable_text_modules,\n",
    "                    negation=text_encoder_negation\n",
    "            )\n",
    "            cast_to_gpu_and_type([text_encoder], accelerator, torch.float32)\n",
    "        print(\"1\")\n",
    "        # *Potentially* Fixes gradient checkpointing training.\n",
    "        # See: https://github.com/prigoyal/pytorch_memonger/blob/master/tutorial/Checkpointing_for_PyTorch_models.ipynb\n",
    "        if True:\n",
    "            unet.eval()\n",
    "            text_encoder.eval()\n",
    "        print(\"2\")    \n",
    "        # Encode text embeddings\n",
    "        token_ids = batch['prompt_ids']\n",
    "\n",
    "        # Assume extra batch dimnesion.\n",
    "        if len(token_ids.shape) > 2:\n",
    "            token_ids = token_ids[0]\n",
    "            \n",
    "        encoder_hidden_states = text_encoder(token_ids)[0]\n",
    "\n",
    "        # Get the target for loss depending on the prediction type\n",
    "        if noise_scheduler.prediction_type == \"epsilon\":\n",
    "            target = noise\n",
    "\n",
    "        elif noise_scheduler.prediction_type == \"v_prediction\":\n",
    "            target = noise_scheduler.get_velocity(latents, noise, timesteps)\n",
    "\n",
    "        else:\n",
    "            raise ValueError(f\"Unknown prediction type {noise_scheduler.prediction_type}\")\n",
    "\n",
    "        \n",
    "        # Here we do two passes for video and text training.\n",
    "        # If we are on the second iteration of the loop, get one frame.\n",
    "        # This allows us to train text information only on the spatial layers.\n",
    "        losses = []\n",
    "        should_truncate_video = (video_length > 1 and text_trainable)\n",
    "\n",
    "        # We detach the encoder hidden states for the first pass (video frames > 1)\n",
    "        # Then we make a clone of the initial state to ensure we can train it in the loop.\n",
    "        detached_encoder_state = encoder_hidden_states.clone().detach()\n",
    "        trainable_encoder_state = encoder_hidden_states.clone()\n",
    "\n",
    "        for i in range(2):\n",
    "\n",
    "            should_detach = noisy_latents.shape[2] > 1 and i == 0\n",
    "\n",
    "            if should_truncate_video and i == 1:\n",
    "                noisy_latents = noisy_latents[:,:,1,:,:].unsqueeze(2)\n",
    "                target = target[:,:,1,:,:].unsqueeze(2)\n",
    "                       \n",
    "            encoder_hidden_states = (\n",
    "                detached_encoder_state if should_detach else trainable_encoder_state\n",
    "            )\n",
    "\n",
    "            model_pred = unet(noisy_latents, timesteps, encoder_hidden_states=encoder_hidden_states).sample\n",
    "            loss = F.mse_loss(model_pred.float(), target.float(), reduction=\"mean\")\n",
    "\n",
    "            losses.append(loss)\n",
    "            \n",
    "            # This was most likely single frame training or a single image.\n",
    "            if video_length == 1 and i == 0: break\n",
    "\n",
    "        loss = losses[0] if len(losses) == 1 else losses[0] + losses[1] \n",
    "\n",
    "        return loss, latents"
   ]
  },
  {
   "cell_type": "code",
   "execution_count": 100,
   "metadata": {},
   "outputs": [],
   "source": [
    "def save_pipe(\n",
    "        path, \n",
    "        global_step,\n",
    "        accelerator, \n",
    "        unet, \n",
    "        text_encoder, \n",
    "        vae, \n",
    "        output_dir,\n",
    "        lora_manager: LoraHandler,\n",
    "        unet_target_replace_module=None,\n",
    "        text_target_replace_module=None,\n",
    "        is_checkpoint=False,\n",
    "        save_pretrained_model=True\n",
    "    ):\n",
    "\n",
    "    if is_checkpoint:\n",
    "        save_path = os.path.join(output_dir, f\"checkpoint-{global_step}\")\n",
    "        os.makedirs(save_path, exist_ok=True)\n",
    "    else:\n",
    "        save_path = output_dir\n",
    "\n",
    "    # Save the dtypes so we can continue training at the same precision.\n",
    "    u_dtype, t_dtype, v_dtype = unet.dtype, text_encoder.dtype, vae.dtype \n",
    "\n",
    "   # Copy the model without creating a reference to it. This allows keeping the state of our lora training if enabled.\n",
    "    unet_save = copy.deepcopy(unet.cpu())\n",
    "    text_encoder_save = copy.deepcopy(text_encoder.cpu())\n",
    "\n",
    "    unet_out = copy.deepcopy(accelerator.unwrap_model(unet_save, keep_fp32_wrapper=False))\n",
    "    text_encoder_out = copy.deepcopy(accelerator.unwrap_model(text_encoder_save, keep_fp32_wrapper=False))\n",
    "\n",
    "    pipeline = TextToVideoSDPipeline.from_pretrained(\n",
    "        path,\n",
    "        unet=unet_out,\n",
    "        text_encoder=text_encoder_out,\n",
    "        vae=vae,\n",
    "    ).to(torch_dtype=torch.float32)\n",
    "    \n",
    "    lora_manager.save_lora_weights(model=pipeline, save_path=save_path, step=global_step)\n",
    "\n",
    "    if save_pretrained_model:\n",
    "        pipeline.save_pretrained(save_path)\n",
    "\n",
    "    if is_checkpoint:\n",
    "        unet, text_encoder = accelerator.prepare(unet, text_encoder)\n",
    "        models_to_cast_back = [(unet, u_dtype), (text_encoder, t_dtype), (vae, v_dtype)]\n",
    "        [x[0].to(accelerator.device, dtype=x[1]) for x in models_to_cast_back]\n",
    "\n",
    "    logger.info(f\"Saved model at {save_path} on step {global_step}\")\n",
    "    \n",
    "    del pipeline\n",
    "    del unet_out\n",
    "    del text_encoder_out\n",
    "    torch.cuda.empty_cache()\n",
    "    gc.collect()\n"
   ]
  },
  {
   "cell_type": "code",
   "execution_count": 101,
   "metadata": {},
   "outputs": [],
   "source": [
    "def should_sample(global_step, validation_steps, validation_data):\n",
    "    return (global_step % validation_steps == 0 or global_step == 1)  \\\n",
    "    and validation_data.sample_preview\n"
   ]
  },
  {
   "cell_type": "code",
   "execution_count": 102,
   "metadata": {},
   "outputs": [],
   "source": [
    "# Validation data parameters.\n",
    "validation_data= {\n",
    "  # A custom prompt that is different from your training dataset. \n",
    "  \"prompt\": \"\",\n",
    "  # Whether or not to sample preview during training (Requires more VRAM).\n",
    "  \"sample_preview\": True,\n",
    "  # The number of frames to sample during validation.\n",
    "  \"num_frames\": 4,\n",
    "  # Height and width of validation sample.\n",
    "  \"width\": 320,\n",
    "  \"height\": 240,\n",
    "  # Number of inference steps when generating the video.\n",
    "  \"num_inference_steps\": 25,\n",
    "  # CFG scale\n",
    "  \"guidance_scale\": 9\n",
    "}"
   ]
  },
  {
   "cell_type": "code",
   "execution_count": 103,
   "metadata": {},
   "outputs": [
    {
     "name": "stdout",
     "output_type": "stream",
     "text": [
      "Video Length:  8\n"
     ]
    },
    {
     "ename": "OutOfMemoryError",
     "evalue": "CUDA out of memory. Tried to allocate 20.00 MiB. GPU 0 has a total capacity of 15.72 GiB of which 15.25 MiB is free. Including non-PyTorch memory, this process has 15.59 GiB memory in use. Of the allocated memory 15.11 GiB is allocated by PyTorch, and 274.21 MiB is reserved by PyTorch but unallocated. If reserved but unallocated memory is large try setting PYTORCH_CUDA_ALLOC_CONF=expandable_segments:True to avoid fragmentation.  See documentation for Memory Management  (https://pytorch.org/docs/stable/notes/cuda.html#environment-variables)",
     "output_type": "error",
     "traceback": [
      "\u001b[0;31m---------------------------------------------------------------------------\u001b[0m",
      "\u001b[0;31mOutOfMemoryError\u001b[0m                          Traceback (most recent call last)",
      "Cell \u001b[0;32mIn[103], line 16\u001b[0m\n\u001b[1;32m     13\u001b[0m text_prompt \u001b[38;5;241m=\u001b[39m batch[\u001b[38;5;124m'\u001b[39m\u001b[38;5;124mtext_prompt\u001b[39m\u001b[38;5;124m'\u001b[39m][\u001b[38;5;241m0\u001b[39m]\n\u001b[1;32m     15\u001b[0m \u001b[38;5;28;01mwith\u001b[39;00m accelerator\u001b[38;5;241m.\u001b[39mautocast():\n\u001b[0;32m---> 16\u001b[0m     loss, latents \u001b[38;5;241m=\u001b[39m \u001b[43mfinetune_unet\u001b[49m\u001b[43m(\u001b[49m\u001b[43mbatch\u001b[49m\u001b[43m,\u001b[49m\u001b[43m \u001b[49m\u001b[43mtrain_encoder\u001b[49m\u001b[38;5;241;43m=\u001b[39;49m\u001b[43mtrain_text_encoder\u001b[49m\u001b[43m)\u001b[49m\n\u001b[1;32m     18\u001b[0m \u001b[38;5;66;03m# Gather the losses across all processes for logging (if we use distributed training).\u001b[39;00m\n\u001b[1;32m     19\u001b[0m avg_loss \u001b[38;5;241m=\u001b[39m accelerator\u001b[38;5;241m.\u001b[39mgather(loss\u001b[38;5;241m.\u001b[39mrepeat(train_batch_size))\u001b[38;5;241m.\u001b[39mmean()\n",
      "Cell \u001b[0;32mIn[99], line 108\u001b[0m, in \u001b[0;36mfinetune_unet\u001b[0;34m(batch, train_encoder)\u001b[0m\n\u001b[1;32m    102\u001b[0m     target \u001b[38;5;241m=\u001b[39m target[:,:,\u001b[38;5;241m1\u001b[39m,:,:]\u001b[38;5;241m.\u001b[39munsqueeze(\u001b[38;5;241m2\u001b[39m)\n\u001b[1;32m    104\u001b[0m encoder_hidden_states \u001b[38;5;241m=\u001b[39m (\n\u001b[1;32m    105\u001b[0m     detached_encoder_state \u001b[38;5;28;01mif\u001b[39;00m should_detach \u001b[38;5;28;01melse\u001b[39;00m trainable_encoder_state\n\u001b[1;32m    106\u001b[0m )\n\u001b[0;32m--> 108\u001b[0m model_pred \u001b[38;5;241m=\u001b[39m \u001b[43munet\u001b[49m\u001b[43m(\u001b[49m\u001b[43mnoisy_latents\u001b[49m\u001b[43m,\u001b[49m\u001b[43m \u001b[49m\u001b[43mtimesteps\u001b[49m\u001b[43m,\u001b[49m\u001b[43m \u001b[49m\u001b[43mencoder_hidden_states\u001b[49m\u001b[38;5;241;43m=\u001b[39;49m\u001b[43mencoder_hidden_states\u001b[49m\u001b[43m)\u001b[49m\u001b[38;5;241m.\u001b[39msample\n\u001b[1;32m    109\u001b[0m loss \u001b[38;5;241m=\u001b[39m F\u001b[38;5;241m.\u001b[39mmse_loss(model_pred\u001b[38;5;241m.\u001b[39mfloat(), target\u001b[38;5;241m.\u001b[39mfloat(), reduction\u001b[38;5;241m=\u001b[39m\u001b[38;5;124m\"\u001b[39m\u001b[38;5;124mmean\u001b[39m\u001b[38;5;124m\"\u001b[39m)\n\u001b[1;32m    111\u001b[0m losses\u001b[38;5;241m.\u001b[39mappend(loss)\n",
      "File \u001b[0;32m~/anaconda3/envs/nisargt2v/lib/python3.10/site-packages/torch/nn/modules/module.py:1736\u001b[0m, in \u001b[0;36mModule._wrapped_call_impl\u001b[0;34m(self, *args, **kwargs)\u001b[0m\n\u001b[1;32m   1734\u001b[0m     \u001b[38;5;28;01mreturn\u001b[39;00m \u001b[38;5;28mself\u001b[39m\u001b[38;5;241m.\u001b[39m_compiled_call_impl(\u001b[38;5;241m*\u001b[39margs, \u001b[38;5;241m*\u001b[39m\u001b[38;5;241m*\u001b[39mkwargs)  \u001b[38;5;66;03m# type: ignore[misc]\u001b[39;00m\n\u001b[1;32m   1735\u001b[0m \u001b[38;5;28;01melse\u001b[39;00m:\n\u001b[0;32m-> 1736\u001b[0m     \u001b[38;5;28;01mreturn\u001b[39;00m \u001b[38;5;28;43mself\u001b[39;49m\u001b[38;5;241;43m.\u001b[39;49m\u001b[43m_call_impl\u001b[49m\u001b[43m(\u001b[49m\u001b[38;5;241;43m*\u001b[39;49m\u001b[43margs\u001b[49m\u001b[43m,\u001b[49m\u001b[43m \u001b[49m\u001b[38;5;241;43m*\u001b[39;49m\u001b[38;5;241;43m*\u001b[39;49m\u001b[43mkwargs\u001b[49m\u001b[43m)\u001b[49m\n",
      "File \u001b[0;32m~/anaconda3/envs/nisargt2v/lib/python3.10/site-packages/torch/nn/modules/module.py:1747\u001b[0m, in \u001b[0;36mModule._call_impl\u001b[0;34m(self, *args, **kwargs)\u001b[0m\n\u001b[1;32m   1742\u001b[0m \u001b[38;5;66;03m# If we don't have any hooks, we want to skip the rest of the logic in\u001b[39;00m\n\u001b[1;32m   1743\u001b[0m \u001b[38;5;66;03m# this function, and just call forward.\u001b[39;00m\n\u001b[1;32m   1744\u001b[0m \u001b[38;5;28;01mif\u001b[39;00m \u001b[38;5;129;01mnot\u001b[39;00m (\u001b[38;5;28mself\u001b[39m\u001b[38;5;241m.\u001b[39m_backward_hooks \u001b[38;5;129;01mor\u001b[39;00m \u001b[38;5;28mself\u001b[39m\u001b[38;5;241m.\u001b[39m_backward_pre_hooks \u001b[38;5;129;01mor\u001b[39;00m \u001b[38;5;28mself\u001b[39m\u001b[38;5;241m.\u001b[39m_forward_hooks \u001b[38;5;129;01mor\u001b[39;00m \u001b[38;5;28mself\u001b[39m\u001b[38;5;241m.\u001b[39m_forward_pre_hooks\n\u001b[1;32m   1745\u001b[0m         \u001b[38;5;129;01mor\u001b[39;00m _global_backward_pre_hooks \u001b[38;5;129;01mor\u001b[39;00m _global_backward_hooks\n\u001b[1;32m   1746\u001b[0m         \u001b[38;5;129;01mor\u001b[39;00m _global_forward_hooks \u001b[38;5;129;01mor\u001b[39;00m _global_forward_pre_hooks):\n\u001b[0;32m-> 1747\u001b[0m     \u001b[38;5;28;01mreturn\u001b[39;00m \u001b[43mforward_call\u001b[49m\u001b[43m(\u001b[49m\u001b[38;5;241;43m*\u001b[39;49m\u001b[43margs\u001b[49m\u001b[43m,\u001b[49m\u001b[43m \u001b[49m\u001b[38;5;241;43m*\u001b[39;49m\u001b[38;5;241;43m*\u001b[39;49m\u001b[43mkwargs\u001b[49m\u001b[43m)\u001b[49m\n\u001b[1;32m   1749\u001b[0m result \u001b[38;5;241m=\u001b[39m \u001b[38;5;28;01mNone\u001b[39;00m\n\u001b[1;32m   1750\u001b[0m called_always_called_hooks \u001b[38;5;241m=\u001b[39m \u001b[38;5;28mset\u001b[39m()\n",
      "File \u001b[0;32m~/anaconda3/envs/nisargt2v/lib/python3.10/site-packages/accelerate/utils/operations.py:521\u001b[0m, in \u001b[0;36mconvert_outputs_to_fp32.<locals>.forward\u001b[0;34m(*args, **kwargs)\u001b[0m\n\u001b[1;32m    520\u001b[0m \u001b[38;5;28;01mdef\u001b[39;00m \u001b[38;5;21mforward\u001b[39m(\u001b[38;5;241m*\u001b[39margs, \u001b[38;5;241m*\u001b[39m\u001b[38;5;241m*\u001b[39mkwargs):\n\u001b[0;32m--> 521\u001b[0m     \u001b[38;5;28;01mreturn\u001b[39;00m \u001b[43mmodel_forward\u001b[49m\u001b[43m(\u001b[49m\u001b[38;5;241;43m*\u001b[39;49m\u001b[43margs\u001b[49m\u001b[43m,\u001b[49m\u001b[43m \u001b[49m\u001b[38;5;241;43m*\u001b[39;49m\u001b[38;5;241;43m*\u001b[39;49m\u001b[43mkwargs\u001b[49m\u001b[43m)\u001b[49m\n",
      "File \u001b[0;32m~/anaconda3/envs/nisargt2v/lib/python3.10/site-packages/accelerate/utils/operations.py:509\u001b[0m, in \u001b[0;36mConvertOutputsToFp32.__call__\u001b[0;34m(self, *args, **kwargs)\u001b[0m\n\u001b[1;32m    508\u001b[0m \u001b[38;5;28;01mdef\u001b[39;00m \u001b[38;5;21m__call__\u001b[39m(\u001b[38;5;28mself\u001b[39m, \u001b[38;5;241m*\u001b[39margs, \u001b[38;5;241m*\u001b[39m\u001b[38;5;241m*\u001b[39mkwargs):\n\u001b[0;32m--> 509\u001b[0m     \u001b[38;5;28;01mreturn\u001b[39;00m convert_to_fp32(\u001b[38;5;28;43mself\u001b[39;49m\u001b[38;5;241;43m.\u001b[39;49m\u001b[43mmodel_forward\u001b[49m\u001b[43m(\u001b[49m\u001b[38;5;241;43m*\u001b[39;49m\u001b[43margs\u001b[49m\u001b[43m,\u001b[49m\u001b[43m \u001b[49m\u001b[38;5;241;43m*\u001b[39;49m\u001b[38;5;241;43m*\u001b[39;49m\u001b[43mkwargs\u001b[49m\u001b[43m)\u001b[49m)\n",
      "File \u001b[0;32m~/anaconda3/envs/nisargt2v/lib/python3.10/site-packages/torch/amp/autocast_mode.py:44\u001b[0m, in \u001b[0;36mautocast_decorator.<locals>.decorate_autocast\u001b[0;34m(*args, **kwargs)\u001b[0m\n\u001b[1;32m     41\u001b[0m \u001b[38;5;129m@functools\u001b[39m\u001b[38;5;241m.\u001b[39mwraps(func)\n\u001b[1;32m     42\u001b[0m \u001b[38;5;28;01mdef\u001b[39;00m \u001b[38;5;21mdecorate_autocast\u001b[39m(\u001b[38;5;241m*\u001b[39margs, \u001b[38;5;241m*\u001b[39m\u001b[38;5;241m*\u001b[39mkwargs):\n\u001b[1;32m     43\u001b[0m     \u001b[38;5;28;01mwith\u001b[39;00m autocast_instance:\n\u001b[0;32m---> 44\u001b[0m         \u001b[38;5;28;01mreturn\u001b[39;00m \u001b[43mfunc\u001b[49m\u001b[43m(\u001b[49m\u001b[38;5;241;43m*\u001b[39;49m\u001b[43margs\u001b[49m\u001b[43m,\u001b[49m\u001b[43m \u001b[49m\u001b[38;5;241;43m*\u001b[39;49m\u001b[38;5;241;43m*\u001b[39;49m\u001b[43mkwargs\u001b[49m\u001b[43m)\u001b[49m\n",
      "File \u001b[0;32m~/anaconda3/envs/nisargt2v/lib/python3.10/site-packages/accelerate/utils/operations.py:521\u001b[0m, in \u001b[0;36mconvert_outputs_to_fp32.<locals>.forward\u001b[0;34m(*args, **kwargs)\u001b[0m\n\u001b[1;32m    520\u001b[0m \u001b[38;5;28;01mdef\u001b[39;00m \u001b[38;5;21mforward\u001b[39m(\u001b[38;5;241m*\u001b[39margs, \u001b[38;5;241m*\u001b[39m\u001b[38;5;241m*\u001b[39mkwargs):\n\u001b[0;32m--> 521\u001b[0m     \u001b[38;5;28;01mreturn\u001b[39;00m \u001b[43mmodel_forward\u001b[49m\u001b[43m(\u001b[49m\u001b[38;5;241;43m*\u001b[39;49m\u001b[43margs\u001b[49m\u001b[43m,\u001b[49m\u001b[43m \u001b[49m\u001b[38;5;241;43m*\u001b[39;49m\u001b[38;5;241;43m*\u001b[39;49m\u001b[43mkwargs\u001b[49m\u001b[43m)\u001b[49m\n",
      "File \u001b[0;32m~/anaconda3/envs/nisargt2v/lib/python3.10/site-packages/accelerate/utils/operations.py:509\u001b[0m, in \u001b[0;36mConvertOutputsToFp32.__call__\u001b[0;34m(self, *args, **kwargs)\u001b[0m\n\u001b[1;32m    508\u001b[0m \u001b[38;5;28;01mdef\u001b[39;00m \u001b[38;5;21m__call__\u001b[39m(\u001b[38;5;28mself\u001b[39m, \u001b[38;5;241m*\u001b[39margs, \u001b[38;5;241m*\u001b[39m\u001b[38;5;241m*\u001b[39mkwargs):\n\u001b[0;32m--> 509\u001b[0m     \u001b[38;5;28;01mreturn\u001b[39;00m convert_to_fp32(\u001b[38;5;28;43mself\u001b[39;49m\u001b[38;5;241;43m.\u001b[39;49m\u001b[43mmodel_forward\u001b[49m\u001b[43m(\u001b[49m\u001b[38;5;241;43m*\u001b[39;49m\u001b[43margs\u001b[49m\u001b[43m,\u001b[49m\u001b[43m \u001b[49m\u001b[38;5;241;43m*\u001b[39;49m\u001b[38;5;241;43m*\u001b[39;49m\u001b[43mkwargs\u001b[49m\u001b[43m)\u001b[49m)\n",
      "File \u001b[0;32m~/anaconda3/envs/nisargt2v/lib/python3.10/site-packages/torch/amp/autocast_mode.py:44\u001b[0m, in \u001b[0;36mautocast_decorator.<locals>.decorate_autocast\u001b[0;34m(*args, **kwargs)\u001b[0m\n\u001b[1;32m     41\u001b[0m \u001b[38;5;129m@functools\u001b[39m\u001b[38;5;241m.\u001b[39mwraps(func)\n\u001b[1;32m     42\u001b[0m \u001b[38;5;28;01mdef\u001b[39;00m \u001b[38;5;21mdecorate_autocast\u001b[39m(\u001b[38;5;241m*\u001b[39margs, \u001b[38;5;241m*\u001b[39m\u001b[38;5;241m*\u001b[39mkwargs):\n\u001b[1;32m     43\u001b[0m     \u001b[38;5;28;01mwith\u001b[39;00m autocast_instance:\n\u001b[0;32m---> 44\u001b[0m         \u001b[38;5;28;01mreturn\u001b[39;00m \u001b[43mfunc\u001b[49m\u001b[43m(\u001b[49m\u001b[38;5;241;43m*\u001b[39;49m\u001b[43margs\u001b[49m\u001b[43m,\u001b[49m\u001b[43m \u001b[49m\u001b[38;5;241;43m*\u001b[39;49m\u001b[38;5;241;43m*\u001b[39;49m\u001b[43mkwargs\u001b[49m\u001b[43m)\u001b[49m\n",
      "File \u001b[0;32m~/nisarg/models/unet_3d_condition.py:405\u001b[0m, in \u001b[0;36mUNet3DConditionModel.forward\u001b[0;34m(self, sample, timestep, encoder_hidden_states, class_labels, timestep_cond, attention_mask, cross_attention_kwargs, down_block_additional_residuals, mid_block_additional_residual, return_dict)\u001b[0m\n\u001b[1;32m    403\u001b[0m \u001b[38;5;66;03m# 2. pre-process\u001b[39;00m\n\u001b[1;32m    404\u001b[0m sample \u001b[38;5;241m=\u001b[39m sample\u001b[38;5;241m.\u001b[39mpermute(\u001b[38;5;241m0\u001b[39m, \u001b[38;5;241m2\u001b[39m, \u001b[38;5;241m1\u001b[39m, \u001b[38;5;241m3\u001b[39m, \u001b[38;5;241m4\u001b[39m)\u001b[38;5;241m.\u001b[39mreshape((sample\u001b[38;5;241m.\u001b[39mshape[\u001b[38;5;241m0\u001b[39m] \u001b[38;5;241m*\u001b[39m num_frames, \u001b[38;5;241m-\u001b[39m\u001b[38;5;241m1\u001b[39m) \u001b[38;5;241m+\u001b[39m sample\u001b[38;5;241m.\u001b[39mshape[\u001b[38;5;241m3\u001b[39m:])\n\u001b[0;32m--> 405\u001b[0m sample \u001b[38;5;241m=\u001b[39m \u001b[38;5;28;43mself\u001b[39;49m\u001b[38;5;241;43m.\u001b[39;49m\u001b[43mconv_in\u001b[49m\u001b[43m(\u001b[49m\u001b[43msample\u001b[49m\u001b[43m)\u001b[49m\n\u001b[1;32m    407\u001b[0m \u001b[38;5;28;01mif\u001b[39;00m num_frames \u001b[38;5;241m>\u001b[39m \u001b[38;5;241m1\u001b[39m:\n\u001b[1;32m    408\u001b[0m     \u001b[38;5;28;01mif\u001b[39;00m \u001b[38;5;28mself\u001b[39m\u001b[38;5;241m.\u001b[39mgradient_checkpointing:\n",
      "File \u001b[0;32m~/anaconda3/envs/nisargt2v/lib/python3.10/site-packages/torch/nn/modules/module.py:1736\u001b[0m, in \u001b[0;36mModule._wrapped_call_impl\u001b[0;34m(self, *args, **kwargs)\u001b[0m\n\u001b[1;32m   1734\u001b[0m     \u001b[38;5;28;01mreturn\u001b[39;00m \u001b[38;5;28mself\u001b[39m\u001b[38;5;241m.\u001b[39m_compiled_call_impl(\u001b[38;5;241m*\u001b[39margs, \u001b[38;5;241m*\u001b[39m\u001b[38;5;241m*\u001b[39mkwargs)  \u001b[38;5;66;03m# type: ignore[misc]\u001b[39;00m\n\u001b[1;32m   1735\u001b[0m \u001b[38;5;28;01melse\u001b[39;00m:\n\u001b[0;32m-> 1736\u001b[0m     \u001b[38;5;28;01mreturn\u001b[39;00m \u001b[38;5;28;43mself\u001b[39;49m\u001b[38;5;241;43m.\u001b[39;49m\u001b[43m_call_impl\u001b[49m\u001b[43m(\u001b[49m\u001b[38;5;241;43m*\u001b[39;49m\u001b[43margs\u001b[49m\u001b[43m,\u001b[49m\u001b[43m \u001b[49m\u001b[38;5;241;43m*\u001b[39;49m\u001b[38;5;241;43m*\u001b[39;49m\u001b[43mkwargs\u001b[49m\u001b[43m)\u001b[49m\n",
      "File \u001b[0;32m~/anaconda3/envs/nisargt2v/lib/python3.10/site-packages/torch/nn/modules/module.py:1747\u001b[0m, in \u001b[0;36mModule._call_impl\u001b[0;34m(self, *args, **kwargs)\u001b[0m\n\u001b[1;32m   1742\u001b[0m \u001b[38;5;66;03m# If we don't have any hooks, we want to skip the rest of the logic in\u001b[39;00m\n\u001b[1;32m   1743\u001b[0m \u001b[38;5;66;03m# this function, and just call forward.\u001b[39;00m\n\u001b[1;32m   1744\u001b[0m \u001b[38;5;28;01mif\u001b[39;00m \u001b[38;5;129;01mnot\u001b[39;00m (\u001b[38;5;28mself\u001b[39m\u001b[38;5;241m.\u001b[39m_backward_hooks \u001b[38;5;129;01mor\u001b[39;00m \u001b[38;5;28mself\u001b[39m\u001b[38;5;241m.\u001b[39m_backward_pre_hooks \u001b[38;5;129;01mor\u001b[39;00m \u001b[38;5;28mself\u001b[39m\u001b[38;5;241m.\u001b[39m_forward_hooks \u001b[38;5;129;01mor\u001b[39;00m \u001b[38;5;28mself\u001b[39m\u001b[38;5;241m.\u001b[39m_forward_pre_hooks\n\u001b[1;32m   1745\u001b[0m         \u001b[38;5;129;01mor\u001b[39;00m _global_backward_pre_hooks \u001b[38;5;129;01mor\u001b[39;00m _global_backward_hooks\n\u001b[1;32m   1746\u001b[0m         \u001b[38;5;129;01mor\u001b[39;00m _global_forward_hooks \u001b[38;5;129;01mor\u001b[39;00m _global_forward_pre_hooks):\n\u001b[0;32m-> 1747\u001b[0m     \u001b[38;5;28;01mreturn\u001b[39;00m \u001b[43mforward_call\u001b[49m\u001b[43m(\u001b[49m\u001b[38;5;241;43m*\u001b[39;49m\u001b[43margs\u001b[49m\u001b[43m,\u001b[49m\u001b[43m \u001b[49m\u001b[38;5;241;43m*\u001b[39;49m\u001b[38;5;241;43m*\u001b[39;49m\u001b[43mkwargs\u001b[49m\u001b[43m)\u001b[49m\n\u001b[1;32m   1749\u001b[0m result \u001b[38;5;241m=\u001b[39m \u001b[38;5;28;01mNone\u001b[39;00m\n\u001b[1;32m   1750\u001b[0m called_always_called_hooks \u001b[38;5;241m=\u001b[39m \u001b[38;5;28mset\u001b[39m()\n",
      "File \u001b[0;32m~/anaconda3/envs/nisargt2v/lib/python3.10/site-packages/torch/nn/modules/conv.py:554\u001b[0m, in \u001b[0;36mConv2d.forward\u001b[0;34m(self, input)\u001b[0m\n\u001b[1;32m    553\u001b[0m \u001b[38;5;28;01mdef\u001b[39;00m \u001b[38;5;21mforward\u001b[39m(\u001b[38;5;28mself\u001b[39m, \u001b[38;5;28minput\u001b[39m: Tensor) \u001b[38;5;241m-\u001b[39m\u001b[38;5;241m>\u001b[39m Tensor:\n\u001b[0;32m--> 554\u001b[0m     \u001b[38;5;28;01mreturn\u001b[39;00m \u001b[38;5;28;43mself\u001b[39;49m\u001b[38;5;241;43m.\u001b[39;49m\u001b[43m_conv_forward\u001b[49m\u001b[43m(\u001b[49m\u001b[38;5;28;43minput\u001b[39;49m\u001b[43m,\u001b[49m\u001b[43m \u001b[49m\u001b[38;5;28;43mself\u001b[39;49m\u001b[38;5;241;43m.\u001b[39;49m\u001b[43mweight\u001b[49m\u001b[43m,\u001b[49m\u001b[43m \u001b[49m\u001b[38;5;28;43mself\u001b[39;49m\u001b[38;5;241;43m.\u001b[39;49m\u001b[43mbias\u001b[49m\u001b[43m)\u001b[49m\n",
      "File \u001b[0;32m~/anaconda3/envs/nisargt2v/lib/python3.10/site-packages/torch/nn/modules/conv.py:549\u001b[0m, in \u001b[0;36mConv2d._conv_forward\u001b[0;34m(self, input, weight, bias)\u001b[0m\n\u001b[1;32m    537\u001b[0m \u001b[38;5;28;01mif\u001b[39;00m \u001b[38;5;28mself\u001b[39m\u001b[38;5;241m.\u001b[39mpadding_mode \u001b[38;5;241m!=\u001b[39m \u001b[38;5;124m\"\u001b[39m\u001b[38;5;124mzeros\u001b[39m\u001b[38;5;124m\"\u001b[39m:\n\u001b[1;32m    538\u001b[0m     \u001b[38;5;28;01mreturn\u001b[39;00m F\u001b[38;5;241m.\u001b[39mconv2d(\n\u001b[1;32m    539\u001b[0m         F\u001b[38;5;241m.\u001b[39mpad(\n\u001b[1;32m    540\u001b[0m             \u001b[38;5;28minput\u001b[39m, \u001b[38;5;28mself\u001b[39m\u001b[38;5;241m.\u001b[39m_reversed_padding_repeated_twice, mode\u001b[38;5;241m=\u001b[39m\u001b[38;5;28mself\u001b[39m\u001b[38;5;241m.\u001b[39mpadding_mode\n\u001b[0;32m   (...)\u001b[0m\n\u001b[1;32m    547\u001b[0m         \u001b[38;5;28mself\u001b[39m\u001b[38;5;241m.\u001b[39mgroups,\n\u001b[1;32m    548\u001b[0m     )\n\u001b[0;32m--> 549\u001b[0m \u001b[38;5;28;01mreturn\u001b[39;00m \u001b[43mF\u001b[49m\u001b[38;5;241;43m.\u001b[39;49m\u001b[43mconv2d\u001b[49m\u001b[43m(\u001b[49m\n\u001b[1;32m    550\u001b[0m \u001b[43m    \u001b[49m\u001b[38;5;28;43minput\u001b[39;49m\u001b[43m,\u001b[49m\u001b[43m \u001b[49m\u001b[43mweight\u001b[49m\u001b[43m,\u001b[49m\u001b[43m \u001b[49m\u001b[43mbias\u001b[49m\u001b[43m,\u001b[49m\u001b[43m \u001b[49m\u001b[38;5;28;43mself\u001b[39;49m\u001b[38;5;241;43m.\u001b[39;49m\u001b[43mstride\u001b[49m\u001b[43m,\u001b[49m\u001b[43m \u001b[49m\u001b[38;5;28;43mself\u001b[39;49m\u001b[38;5;241;43m.\u001b[39;49m\u001b[43mpadding\u001b[49m\u001b[43m,\u001b[49m\u001b[43m \u001b[49m\u001b[38;5;28;43mself\u001b[39;49m\u001b[38;5;241;43m.\u001b[39;49m\u001b[43mdilation\u001b[49m\u001b[43m,\u001b[49m\u001b[43m \u001b[49m\u001b[38;5;28;43mself\u001b[39;49m\u001b[38;5;241;43m.\u001b[39;49m\u001b[43mgroups\u001b[49m\n\u001b[1;32m    551\u001b[0m \u001b[43m\u001b[49m\u001b[43m)\u001b[49m\n",
      "\u001b[0;31mOutOfMemoryError\u001b[0m: CUDA out of memory. Tried to allocate 20.00 MiB. GPU 0 has a total capacity of 15.72 GiB of which 15.25 MiB is free. Including non-PyTorch memory, this process has 15.59 GiB memory in use. Of the allocated memory 15.11 GiB is allocated by PyTorch, and 274.21 MiB is reserved by PyTorch but unallocated. If reserved but unallocated memory is large try setting PYTORCH_CUDA_ALLOC_CONF=expandable_segments:True to avoid fragmentation.  See documentation for Memory Management  (https://pytorch.org/docs/stable/notes/cuda.html#environment-variables)"
     ]
    }
   ],
   "source": [
    "for epoch in range(first_epoch, num_train_epochs):\n",
    "    train_loss = 0.0\n",
    "    \n",
    "    for step, batch in enumerate(train_dataloader):\n",
    "        # Skip steps until we reach the resumed step\n",
    "        if resume_from_checkpoint and epoch == first_epoch and step < resume_step:\n",
    "            if step % gradient_accumulation_steps == 0:\n",
    "                progress_bar.update(1)\n",
    "            continue\n",
    "        \n",
    "        with accelerator.accumulate(unet) ,accelerator.accumulate(text_encoder):\n",
    "\n",
    "            text_prompt = batch['text_prompt'][0]\n",
    "            \n",
    "            with accelerator.autocast():\n",
    "                loss, latents = finetune_unet(batch, train_encoder=train_text_encoder)\n",
    "            \n",
    "            # Gather the losses across all processes for logging (if we use distributed training).\n",
    "            avg_loss = accelerator.gather(loss.repeat(train_batch_size)).mean()\n",
    "            train_loss += avg_loss.item() / gradient_accumulation_steps\n",
    "\n",
    "            # Backpropagate\n",
    "            try:\n",
    "                accelerator.backward(loss)\n",
    "\n",
    "                if any([train_text_encoder, use_text_lora]):\n",
    "                    params_to_clip = list(unet.parameters()) + list(text_encoder.parameters())\n",
    "                else:\n",
    "                    params_to_clip = unet.parameters()\n",
    "\n",
    "                if max_grad_norm > 0:\n",
    "                    if accelerator.sync_gradients:\n",
    "                        if any([train_text_encoder, use_text_lora]):\n",
    "                            params_to_clip = list(unet.parameters()) + list(text_encoder.parameters())\n",
    "                        else:\n",
    "                            params_to_clip = list(unet.parameters())\n",
    "                            \n",
    "                        accelerator.clip_grad_norm_(params_to_clip, max_grad_norm)\n",
    "                        \n",
    "                optimizer.step()\n",
    "                lr_scheduler.step()\n",
    "                optimizer.zero_grad(set_to_none=True)\n",
    "                \n",
    "            except Exception as e:\n",
    "                print(f\"An error has occured during backpropogation! {e}\") \n",
    "                continue\n",
    "\n",
    "        # Checks if the accelerator has performed an optimization step behind the scenes\n",
    "        if accelerator.sync_gradients:\n",
    "            progress_bar.update(1)\n",
    "            global_step += 1\n",
    "            accelerator.log({\"train_loss\": train_loss}, step=global_step)\n",
    "            train_loss = 0.0\n",
    "        \n",
    "            if global_step % checkpointing_steps == 0:\n",
    "                save_pipe(\n",
    "                    pretrained_model_path, \n",
    "                    global_step, \n",
    "                    accelerator, \n",
    "                    unet, \n",
    "                    text_encoder, \n",
    "                    vae, \n",
    "                    output_dir, \n",
    "                    lora_manager,\n",
    "                    unet_lora_modules,\n",
    "                    text_encoder_lora_modules,\n",
    "                    is_checkpoint=True,\n",
    "                    save_pretrained_model=save_pretrained_model\n",
    "                )\n",
    "\n",
    "            if should_sample(global_step, validation_steps, validation_data):\n",
    "                if global_step == 1: print(\"Performing validation prompt.\")\n",
    "                if accelerator.is_main_process:\n",
    "                    \n",
    "                    with accelerator.autocast():\n",
    "                        unet.eval()\n",
    "                        text_encoder.eval()\n",
    "                        unet_and_text_g_c(unet, text_encoder, False, False)\n",
    "                        lora_manager.deactivate_lora_train([unet, text_encoder], True)    \n",
    "\n",
    "                        pipeline = TextToVideoSDPipeline.from_pretrained(\n",
    "                            pretrained_model_path,\n",
    "                            text_encoder=text_encoder,\n",
    "                            vae=vae,\n",
    "                            unet=unet\n",
    "                        )\n",
    "\n",
    "                        diffusion_scheduler = DPMSolverMultistepScheduler.from_config(pipeline.scheduler.config)\n",
    "                        pipeline.scheduler = diffusion_scheduler\n",
    "\n",
    "                        prompt = text_prompt if len(validation_data.prompt) <= 0 else validation_data.prompt\n",
    "\n",
    "                        curr_dataset_name = batch['dataset']\n",
    "                        save_filename = f\"{global_step}_dataset-{curr_dataset_name}_{prompt}\"\n",
    "\n",
    "                        out_file = f\"{output_dir}/samples/{save_filename}.mp4\"\n",
    "                        \n",
    "                        with torch.no_grad():\n",
    "                            video_frames = pipeline(\n",
    "                                prompt,\n",
    "                                width=validation_data.width,\n",
    "                                height=validation_data.height,\n",
    "                                num_frames=validation_data.num_frames,\n",
    "                                num_inference_steps=validation_data.num_inference_steps,\n",
    "                                guidance_scale=validation_data.guidance_scale\n",
    "                            ).frames\n",
    "                        export_to_video(video_frames, out_file, train_data.get('fps', 8))\n",
    "\n",
    "                        del pipeline\n",
    "                        torch.cuda.empty_cache()\n",
    "\n",
    "                logger.info(f\"Saved a new sample to {out_file}\")\n",
    "\n",
    "                unet_and_text_g_c(\n",
    "                    unet, \n",
    "                    text_encoder, \n",
    "                    gradient_checkpointing, \n",
    "                    text_encoder_gradient_checkpointing\n",
    "                )\n",
    "\n",
    "                lora_manager.deactivate_lora_train([unet, text_encoder], False)    \n",
    "\n",
    "        logs = {\"step_loss\": loss.detach().item(), \"lr\": lr_scheduler.get_last_lr()[0]}\n",
    "        accelerator.log({\"training_loss\": loss.detach().item()}, step=step)\n",
    "        progress_bar.set_postfix(**logs)\n",
    "\n",
    "        if global_step >= max_train_steps:\n",
    "            break\n",
    "\n",
    "# Create the pipeline using the trained modules and save it.\n",
    "accelerator.wait_for_everyone()\n",
    "if accelerator.is_main_process:\n",
    "    save_pipe(\n",
    "            pretrained_model_path, \n",
    "            global_step, \n",
    "            accelerator, \n",
    "            unet, \n",
    "            text_encoder, \n",
    "            vae, \n",
    "            output_dir, \n",
    "            lora_manager,\n",
    "            unet_lora_modules,\n",
    "            text_encoder_lora_modules,\n",
    "            is_checkpoint=False,\n",
    "            save_pretrained_model=save_pretrained_model\n",
    "    )     \n",
    "accelerator.end_training()"
   ]
  },
  {
   "cell_type": "code",
   "execution_count": null,
   "metadata": {},
   "outputs": [],
   "source": []
  }
 ],
 "metadata": {
  "kernelspec": {
   "display_name": "nisargt2v",
   "language": "python",
   "name": "python3"
  },
  "language_info": {
   "codemirror_mode": {
    "name": "ipython",
    "version": 3
   },
   "file_extension": ".py",
   "mimetype": "text/x-python",
   "name": "python",
   "nbconvert_exporter": "python",
   "pygments_lexer": "ipython3",
   "version": "3.10.15"
  }
 },
 "nbformat": 4,
 "nbformat_minor": 2
}
